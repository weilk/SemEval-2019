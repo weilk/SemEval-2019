{
 "cells": [
  {
   "cell_type": "code",
   "execution_count": 1,
   "metadata": {},
   "outputs": [],
   "source": [
    "import re, html\n",
    "inputfile='raw_data/EmoContext/train.txt'\n",
    "\n",
    "def rePrint(x):\n",
    "    srch = re.compile(x)\n",
    "    print(' '.join(sorted(list(set(sum([sum([srch.findall(p) for p in c], []) for c in convers], []))))))\n",
    "    \n",
    "def apply(x, y, s=[]):\n",
    "    if s==[]: s=convers\n",
    "    return [[re.sub(x, y, p) for p in c] for c in s]"
   ]
  },
  {
   "cell_type": "code",
   "execution_count": 2,
   "metadata": {},
   "outputs": [
    {
     "ename": "FileNotFoundError",
     "evalue": "[Errno 2] No such file or directory: 'raw_data/EmoContext/train.txt'",
     "output_type": "error",
     "traceback": [
      "\u001b[1;31m---------------------------------------------------------------------------\u001b[0m",
      "\u001b[1;31mFileNotFoundError\u001b[0m                         Traceback (most recent call last)",
      "\u001b[1;32m<ipython-input-2-585130938e07>\u001b[0m in \u001b[0;36m<module>\u001b[1;34m\u001b[0m\n\u001b[1;32m----> 1\u001b[1;33m \u001b[0mlines\u001b[0m \u001b[1;33m=\u001b[0m \u001b[1;33m[\u001b[0m\u001b[0ml\u001b[0m\u001b[1;33m.\u001b[0m\u001b[0mstrip\u001b[0m\u001b[1;33m(\u001b[0m\u001b[1;33m)\u001b[0m\u001b[1;33m.\u001b[0m\u001b[0msplit\u001b[0m\u001b[1;33m(\u001b[0m\u001b[1;34m'\\t'\u001b[0m\u001b[1;33m)\u001b[0m\u001b[1;33m[\u001b[0m\u001b[1;36m1\u001b[0m\u001b[1;33m:\u001b[0m\u001b[1;33m]\u001b[0m \u001b[1;32mfor\u001b[0m \u001b[0ml\u001b[0m \u001b[1;32min\u001b[0m \u001b[0mopen\u001b[0m\u001b[1;33m(\u001b[0m\u001b[0minputfile\u001b[0m\u001b[1;33m,\u001b[0m \u001b[0mencoding\u001b[0m\u001b[1;33m=\u001b[0m\u001b[1;34m\"utf-8\"\u001b[0m\u001b[1;33m)\u001b[0m\u001b[1;33m.\u001b[0m\u001b[0mreadlines\u001b[0m\u001b[1;33m(\u001b[0m\u001b[1;33m)\u001b[0m\u001b[1;33m[\u001b[0m\u001b[1;36m1\u001b[0m\u001b[1;33m:\u001b[0m\u001b[1;33m]\u001b[0m\u001b[1;33m]\u001b[0m\u001b[1;33m\u001b[0m\u001b[1;33m\u001b[0m\u001b[0m\n\u001b[0m\u001b[0;32m      2\u001b[0m \u001b[0mconvers\u001b[0m \u001b[1;33m=\u001b[0m \u001b[1;33m[\u001b[0m\u001b[0ml\u001b[0m\u001b[1;33m[\u001b[0m\u001b[1;33m:\u001b[0m\u001b[1;36m3\u001b[0m\u001b[1;33m]\u001b[0m \u001b[1;32mfor\u001b[0m \u001b[0ml\u001b[0m \u001b[1;32min\u001b[0m \u001b[0mlines\u001b[0m\u001b[1;33m]\u001b[0m\u001b[1;33m\u001b[0m\u001b[1;33m\u001b[0m\u001b[0m\n\u001b[0;32m      3\u001b[0m \u001b[0mlabels\u001b[0m \u001b[1;33m=\u001b[0m \u001b[1;33m[\u001b[0m\u001b[0ml\u001b[0m\u001b[1;33m[\u001b[0m\u001b[1;36m3\u001b[0m\u001b[1;33m]\u001b[0m \u001b[1;32mfor\u001b[0m \u001b[0ml\u001b[0m \u001b[1;32min\u001b[0m \u001b[0mlines\u001b[0m\u001b[1;33m]\u001b[0m\u001b[1;33m\u001b[0m\u001b[1;33m\u001b[0m\u001b[0m\n",
      "\u001b[1;31mFileNotFoundError\u001b[0m: [Errno 2] No such file or directory: 'raw_data/EmoContext/train.txt'"
     ]
    }
   ],
   "source": [
    "lines = [l.strip().split('\\t')[1:] for l in open(inputfile, encoding=\"utf-8\").readlines()[1:]]\n",
    "convers = [l[:3] for l in lines]\n",
    "labels = [l[3] for l in lines]"
   ]
  },
  {
   "cell_type": "code",
   "execution_count": null,
   "metadata": {},
   "outputs": [],
   "source": [
    "convers = [[html.unescape(p).lower() for p in c] for c in convers]\n",
    "convers = apply('([a-zA-Z]+)0([a-zA-Z]+)?', r'\\1o\\2')\n",
    "convers = apply('[\\\"\\`\\’]+', \"'\")\n",
    "convers = apply(r'[\\/\\\\\\=\\+]+', '')\n",
    "convers = apply('([a-z]+)[\\']+([^a-z\\']+)', r'\\1 \\2')\n",
    "convers = apply('([^a-z\\']+)[\\']+([a-z]+)', r'\\1 \\2')\n",
    "convers = apply('([^a-z\\']+)[\\']+([^a-z\\']+)', r'\\1 \\2')\n",
    "convers = apply('([^a-z\\']+)[\\']+([^a-z\\']+)', r'\\1 \\2')\n",
    "convers = apply('([a-z]+)\\-([a-z]+)', r'\\1\\2')\n",
    "convers = apply('([a-z]+)\\-([a-z]+)', r'\\1\\2')\n",
    "convers = apply('([\\x00-\\xFF])([^\\x00-\\xFF])', r'\\1 \\2')\n",
    "convers = apply('([^\\x00-\\xFF])([\\x00-\\xFF])', r'\\1 \\2')\n",
    "convers = apply(r'(.)\\1+', r'\\1\\1')\n",
    "convers = apply(r'([^a-z]{2})\\1+', r' \\1 ')\n",
    "convers = apply(r'([\\.\\!\\?])\\1', r' \\1\\1 ')\n",
    "convers = apply(r'([^\\.])\\.', r'\\1 .')\n",
    "convers = apply(r'\\.([^\\.])', r'. \\1')\n",
    "convers = apply(r'\\. \\.', ' .. ')\n",
    "convers = apply(r'\\d{2,}(?:\\,\\d+)?', ' ')\n",
    "convers = apply(r'(?:\\d+)?[^a-z\\d \\>\\<\\(\\)]\\d+', '')\n",
    "convers = apply('([a-z]{2,})([^a-z\\'])', r'\\1 \\2')\n",
    "convers = apply('\\s+', ' ')\n",
    "convers = apply('[^a-z ]{8,}', '')"
   ]
  },
  {
   "cell_type": "code",
   "execution_count": null,
   "metadata": {},
   "outputs": [],
   "source": [
    "utfemots = apply('[\\x00-\\xFF]', '')\n",
    "convers = apply('[^\\x00-\\xFF]', '')\n",
    "ascemots = apply('[a-z]{2,}', ' ')\n",
    "ascemots = apply(' [a-z] ', ' ', ascemots)\n",
    "ascemots = apply('^[a-z] ', '', ascemots)\n",
    "ascemots = apply(' [a-z]$', '', ascemots)\n",
    "ascemots = apply('^\\s*[a-z]\\s*$', '', ascemots)\n",
    "ascemots = apply('[a-z]?\\'[a-z]?', '', ascemots)\n",
    "ascemots = apply('\\s+', ' ', ascemots)\n",
    "utfemots = apply('(.)', ' \\1 ', utfemots)\n",
    "utfemots = apply('\\s+', ' ', utfemots)\n",
    "convers = apply('[^a-z ]{2,}', '')\n",
    "convers = apply('\\s[^a-z][a-z](\\s|$)', ' ')\n",
    "convers = apply('\\s+', ' ')"
   ]
  },
  {
   "cell_type": "code",
   "execution_count": null,
   "metadata": {},
   "outputs": [],
   "source": [
    "#rePrint('[a-z]+\\'[a-z]+')\n",
    "from autocorrect import spell\n",
    "\" \".join(map(lambda x: spell(x) if x not in '!\"#$%&()*+,-./:;<=>?@[\\\\]^_`{|}~\\t\\n' else x,\"what's ur name ?\".split(\" \")))"
   ]
  },
  {
   "cell_type": "code",
   "execution_count": null,
   "metadata": {},
   "outputs": [],
   "source": [
    "from autocorrect import spell\n",
    "corrected_conversations = list(map(lambda row: list(map(lambda column:\" \".join(map(lambda x: spell(x) if x not in '!\"#$%&()*+,-./:;<=>?@[\\\\]^_`{|}~\\t\\n' else x,column.split(\" \"))) ,row)),convers))"
   ]
  },
  {
   "cell_type": "code",
   "execution_count": null,
   "metadata": {},
   "outputs": [],
   "source": [
    "open('raw_data/EmoContext/utfemots.txt', 'w+', encoding=\"utf-8\").write('\\n'.join(['\\t'.join(c) for c in utfemots]))\n",
    "open('raw_data/EmoContext/convers.txt', 'w+', encoding=\"utf-8\").write('\\n'.join(['\\t'.join(c) for c in convers]))\n",
    "open('raw_data/EmoContext/corrected_conversations.txt', 'w+', encoding=\"utf-8\").write('\\n'.join(['\\t'.join(c) for c in corrected_conversations]))\n",
    "open('raw_data/EmoContext/ascemots.txt', 'w+', encoding=\"utf-8\").write('\\n'.join(['\\t'.join(c) for c in ascemots]))\n",
    "open('raw_data/EmoContext/train2.txt', 'w+', encoding=\"utf-8\").write(\"id\\tturn1\\tturn2\\tturn3\\tlabel\\n\"+'\\n'.join(['\\t'.join([str(i),c[0]+\" \"+ascemots[i][0],c[1]+\" \"+ascemots[i][1],c[2]+\" \"+ascemots[i][2],labels[i]]) for i,c in enumerate(corrected_conversations)]))"
   ]
  },
  {
   "cell_type": "code",
   "execution_count": null,
   "metadata": {},
   "outputs": [],
   "source": [
    "open('raw_data/EmoContext/train3.txt', 'w+', encoding=\"utf-8\").write(\"id\\tturn1\\tturn2\\tturn3\\tlabel\\n\"+'\\n'.join(['\\t'.join([str(i),c[0],c[1],c[2],labels[i]]) for i,c in enumerate(corrected_conversations)]))"
   ]
  },
  {
   "cell_type": "code",
   "execution_count": null,
   "metadata": {},
   "outputs": [],
   "source": []
  }
 ],
 "metadata": {
  "kernelspec": {
   "display_name": "py36-test",
   "language": "python",
   "name": "py36-test"
  }
 },
 "nbformat": 4,
 "nbformat_minor": 2
}
