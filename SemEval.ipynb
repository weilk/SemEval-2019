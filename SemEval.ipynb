{
 "cells": [
  {
   "cell_type": "markdown",
   "metadata": {},
   "source": [
    "# Imports and global variables:"
   ]
  },
  {
   "cell_type": "code",
   "execution_count": 1,
   "metadata": {},
   "outputs": [],
   "source": [
    "from preprocess import *\n",
    "from feature_extraction import *\n",
    "from classes import data\n",
    "from feature_selection import *\n",
    "from model import *\n",
    "\n",
    "\n",
    "features = []"
   ]
  },
  {
   "cell_type": "markdown",
   "metadata": {},
   "source": [
    "# Text parsing/hardcoding"
   ]
  },
  {
   "cell_type": "code",
   "execution_count": 2,
   "metadata": {},
   "outputs": [],
   "source": [
    "raw = ['''Lorem ipsum dolor sit amet, aliquando incorrupte sed in, prompta repudiandae an eam. Eam labitur denique contentiones ut, cum an virtute scribentur, in velit summo vidisse mel. Scripta partiendo an duo. Has ea dolor nemore graecis, te primis vidisse abhorreant vim. An eam eripuit vituperata omittantur, sed noster blandit cu.\n",
    "\n",
    "Nullam possit tritani duo no, ut placerat quaerendum sadipscing vis, eos ne virtute ocurreret constituam. No tale fabulas quo. Ea scripta noluisse imperdiet vis, postea euismod impedit an ius, viderer persius at duo. Sea ut novum ceteros, te pertinax dissentiunt pro. Fuisset noluisse partiendo qui at, usu legere hendrerit assueverit te.\n",
    "\n",
    "Te erat causae eripuit quo, meis tation eos id, eros liber vel te. Te euripidis voluptaria contentiones per, usu illum voluptatum ut, augue nostrum an sit. Mazim disputando ne qui, te per labitur insolens voluptatibus. Mea no tota munere incorrupte. Mollis adolescens definitiones ut duo, cum te dico nibh atqui. Adolescens eloquentiam at per.\n",
    "\n",
    "Est populo regione definiebas ei, ex partem incorrupte elaboraret usu, his mundi nihil sapientem ad. Everti sanctus in mel, lorem perpetua electram sea at. Ei autem facete sit. Vel id maiorum voluptua forensibus. Persecuti posidonium eu eum, per ex brute molestie, purto nonumy disputando quo et.\n",
    "\n",
    "Duis posse mediocritatem vis id, cu vis brute mucius aperiri. Munere molestie atomorum per no. Mel te voluptua consectetuer. Libris postea ea est, nam ea harum ornatus atomorum.'''\n",
    "]"
   ]
  },
  {
   "cell_type": "markdown",
   "metadata": {},
   "source": [
    "# List of preprocessing and feature extraction functions we want to apply"
   ]
  },
  {
   "cell_type": "code",
   "execution_count": 3,
   "metadata": {},
   "outputs": [],
   "source": [
    "pp=[make_lower_case]\n",
    "fe=[number_of_words]"
   ]
  },
  {
   "cell_type": "markdown",
   "metadata": {},
   "source": [
    "# Create a data object using the raw text and applying the before mentioned algorithms. Simulate how a model could have been trained/tested and later used to classify"
   ]
  },
  {
   "cell_type": "code",
   "execution_count": 4,
   "metadata": {},
   "outputs": [
    {
     "name": "stdout",
     "output_type": "stream",
     "text": [
      "{'name': 'number_of_words', 'features': [229]}\n",
      "Done training\n",
      "Done testing\n",
      "[{'name': 'number_of_words', 'features': [229]}]\n"
     ]
    }
   ],
   "source": [
    "data_object = data(raw=raw,pp=pp,fe=fe)\n",
    "print(best_fit.run(data_object.D))\n",
    "simple_MLP.train(data_object.D)\n",
    "simple_MLP.test(data_object.D)\n",
    "print(simple_MLP.forward_pass(data_object.D))"
   ]
  }
 ],
 "metadata": {
  "kernelspec": {
   "display_name": "Python 3",
   "language": "python",
   "name": "python3"
  },
  "language_info": {
   "codemirror_mode": {
    "name": "ipython",
    "version": 3
   },
   "file_extension": ".py",
   "mimetype": "text/x-python",
   "name": "python",
   "nbconvert_exporter": "python",
   "pygments_lexer": "ipython3",
   "version": "3.5.2"
  }
 },
 "nbformat": 4,
 "nbformat_minor": 2
}
